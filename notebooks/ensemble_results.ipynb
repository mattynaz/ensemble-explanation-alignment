{
 "cells": [
  {
   "cell_type": "code",
   "execution_count": null,
   "metadata": {},
   "outputs": [],
   "source": [
    "# Run once\n",
    "%cd ..\n",
    "%load_ext autoreload\n",
    "%autoreload 2"
   ]
  },
  {
   "cell_type": "code",
   "execution_count": null,
   "metadata": {},
   "outputs": [],
   "source": [
    "import numpy as np\n",
    "import matplotlib.pyplot as plt\n",
    "from style import bold, plot_sims\n",
    "from postprocess import _load_config"
   ]
  },
  {
   "cell_type": "code",
   "execution_count": null,
   "metadata": {},
   "outputs": [],
   "source": [
    "names = ['heloc', 'german', 'adult', 'default', 'gmsc']\n",
    "random_source = 'rs'\n",
    "\n",
    "directories = []\n",
    "for name in names:\n",
    "    config = _load_config('train_params.json', name)\n",
    "    optim = 'adam'\n",
    "    epochs = config[optim]['epochs']\n",
    "    lr = config[optim]['lr']\n",
    "    batch_size = config[optim]['batch_size']\n",
    "    dropout = config[optim]['dropout']\n",
    "    directory = f'models/{name}/{random_source}/{optim}_epochs{epochs}_lr{lr}_batch{batch_size}_dropout{dropout}'\n",
    "    directories.append(directory)\n",
    "    print(bold(f\"{name.title()} Directory:\"), directory)"
   ]
  },
  {
   "cell_type": "code",
   "execution_count": null,
   "metadata": {},
   "outputs": [],
   "source": [
    "methods = ['average', 'majority', 'perturb', 'mode connect', 'combined']\n",
    "metric_names = {\n",
    "    'cdc': 'Consistent Direction of Contribution',\n",
    "    'ssa': 'Signed-Set Agreement',\n",
    "    'sa': 'Sign Agreement',\n",
    "}\n",
    "colors = plt.rcParams['axes.prop_cycle'].by_key()['color'][:5]\n",
    "exp = 'gradients'\n",
    "k = 5"
   ]
  },
  {
   "cell_type": "markdown",
   "metadata": {},
   "source": [
    "# Saliency"
   ]
  },
  {
   "cell_type": "markdown",
   "metadata": {},
   "source": [
    "### SA"
   ]
  },
  {
   "cell_type": "code",
   "execution_count": null,
   "metadata": {},
   "outputs": [],
   "source": [
    "exp = 'gradients'\n",
    "metric = 'sa'\n",
    "k = 5\n",
    "ensemble_sizes = [[1, 2, 4, 6, 8, 12, 16, 20]]*5\n",
    "plot_sims(names, directories, ensemble_sizes, k, exp, metric, methods, colors)"
   ]
  },
  {
   "cell_type": "code",
   "execution_count": null,
   "metadata": {},
   "outputs": [],
   "source": [
    "exp = 'gradients'\n",
    "metric = 'sa'\n",
    "ensemble_sizes = [[1, 2, 4, 6, 8, 12, 16, 20],\n",
    "                  [1, 2, 4, 6, 8, 10, 12],\n",
    "                  [1, 2, 4, 6, 8, 12, 16, 20],\n",
    "                  [1, 2, 4, 6, 8, 10, 12],#, 16, 20],\n",
    "                  [1, 2, 4, 6, 8, 12, 16, 20]]"
   ]
  },
  {
   "cell_type": "code",
   "execution_count": null,
   "metadata": {},
   "outputs": [],
   "source": [
    "fig, ax = plt.subplots(nrows=1, ncols=len(names), figsize=(len(names)*4, 4), dpi=150)\n",
    "plt.subplots_adjust(wspace=0.35)\n",
    "method_names = ['Average', 'Majority', 'Perturb', 'Connect', 'Combine']\n",
    "for i, name in enumerate(names):\n",
    "    similarities = np.load(f'{directories[i]}/top{k}_{metric}_{exp}.npy')[:, :len(ensemble_sizes[i]), :]\n",
    "    for j, method in enumerate(methods):\n",
    "        q = np.quantile(similarities[j], [0.4, 0.5, 0.6], axis=1)\n",
    "        ax[i].plot(ensemble_sizes[i], q[1], label=method_names[j], color=colors[j])\n",
    "        ax[i].scatter(ensemble_sizes[i], q[1], s=40, color=colors[j])\n",
    "        ax[i].fill_between(ensemble_sizes[i], q[0], q[2], alpha=0.2, color=colors[j])\n",
    "        # x ticks\n",
    "        ax[i].set_xticks(ensemble_sizes[i])\n",
    "        if name == 'adult':\n",
    "            ax[i].set_yticks(np.arange(0.8, 1.01, 0.04))\n",
    "        ax[i].set_xlabel('Number of Pre-Trained Models', fontsize=12)\n",
    "        name_title = name.title() if name not in ['heloc', 'gmsc'] else name.upper()\n",
    "        name_title = name_title + ' Credit' if name in ['german', 'default'] else name_title\n",
    "        name_title = name_title + ' Income' if name == 'adult' else name_title\n",
    "        ax[i].set_title(name_title, fontsize=14, fontweight='bold')\n",
    "        ax[i].legend()\n",
    "        ax[i].set_ylabel('SA Score', fontsize=12)\n",
    "title = 'Average Pairwise Sign-Agreement (SA) vs Ensemble Size'\n",
    "plt.suptitle(title, fontstyle='italic', fontsize=17, y=1.07)\n",
    "plt.show()"
   ]
  },
  {
   "attachments": {},
   "cell_type": "markdown",
   "metadata": {},
   "source": [
    "### SSA"
   ]
  },
  {
   "cell_type": "code",
   "execution_count": null,
   "metadata": {},
   "outputs": [],
   "source": [
    "exp = 'gradients'\n",
    "metric = 'ssa'\n",
    "k = 5\n",
    "ensemble_sizes = [[1, 2, 4, 6, 8, 12, 16, 20]]*5\n",
    "plot_sims(names, directories, ensemble_sizes, k, exp, metric, methods, colors)"
   ]
  },
  {
   "cell_type": "code",
   "execution_count": null,
   "metadata": {},
   "outputs": [],
   "source": [
    "fig, ax = plt.subplots(nrows=1, ncols=len(names), figsize=(len(names)*4, 3.6), dpi=150)\n",
    "plt.subplots_adjust(wspace=0.35)\n",
    "method_names = ['Average', 'Majority', 'Perturb', 'Connect', 'Combine']\n",
    "for i, name in enumerate(names):\n",
    "    similarities = np.load(f'{directories[i]}/top{k}_{metric}_{exp}.npy')[:, :len(ensemble_sizes[i]), :]\n",
    "    for j, method in enumerate(methods):\n",
    "        q = np.quantile(similarities[j], [0.45, 0.5, 0.55], axis=1)\n",
    "        ax[i].plot(ensemble_sizes[i], q[1], label=method_names[j], color=colors[j])\n",
    "        ax[i].scatter(ensemble_sizes[i], q[1], s=40, color=colors[j])\n",
    "        ax[i].fill_between(ensemble_sizes[i], q[0], q[2], alpha=0.2, color=colors[j])\n",
    "        # x ticks\n",
    "        ax[i].set_xticks(ensemble_sizes[i])\n",
    "        #if name == 'adult':\n",
    "            #ax[i].set_yticks(np.arange(0.8, 1.01, 0.04))x\n",
    "        ax[i].set_xlabel('Number of Pre-Trained Models', fontsize=12)\n",
    "        name_title = name.title() if name not in ['heloc', 'gmsc'] else name.upper()\n",
    "        name_title = name_title + ' Credit' if name in ['german', 'default'] else name_title\n",
    "        name_title = name_title + ' Income' if name == 'adult' else name_title\n",
    "        ax[i].set_title(name_title, fontsize=14, fontweight='bold')\n",
    "        ax[i].legend(loc='lower right')\n",
    "        ax[i].set_ylabel('SSA Score', fontsize=12)\n",
    "title = 'Average Pairwise Signed-Set Agreement (SSA) between Ensembles vs Number of Pretrained Models per Ensemble'\n",
    "plt.suptitle(title, fontstyle='italic', fontsize=17, y=1.07)\n",
    "plt.show()"
   ]
  },
  {
   "cell_type": "markdown",
   "metadata": {},
   "source": [
    "### CDC"
   ]
  },
  {
   "cell_type": "code",
   "execution_count": null,
   "metadata": {},
   "outputs": [],
   "source": [
    "exp = 'gradients'\n",
    "metric = 'cdc'\n",
    "ks = [23, 70, 6, 90, 10]\n",
    "ensemble_sizes = [[1, 2, 4, 6, 8, 12, 16, 20]]*5\n",
    "plot_sims(names, directories, ensemble_sizes, ks, exp, metric, methods, colors)"
   ]
  },
  {
   "cell_type": "code",
   "execution_count": null,
   "metadata": {},
   "outputs": [],
   "source": [
    "fig, ax = plt.subplots(nrows=1, ncols=len(names), figsize=(len(names)*4, 3.6), dpi=150)\n",
    "plt.subplots_adjust(wspace=0.35)\n",
    "method_names = ['Average', 'Majority', 'Perturb', 'Connect', 'Combine']\n",
    "for i, name in enumerate(names):\n",
    "    k = ks[i]\n",
    "    similarities = np.load(f'{directories[i]}/top{k}_{metric}_{exp}.npy')[:, :len(ensemble_sizes[i]), :]\n",
    "    for j, method in enumerate(methods):\n",
    "        q = np.quantile(similarities[j], [0.45, 0.5, 0.55], axis=1)\n",
    "        ax[i].plot(ensemble_sizes[i], q[1], label=method_names[j], color=colors[j])\n",
    "        ax[i].scatter(ensemble_sizes[i], q[1], s=40, color=colors[j])\n",
    "        ax[i].fill_between(ensemble_sizes[i], q[0], q[2], alpha=0.2, color=colors[j])\n",
    "        ax[i].set_xticks(ensemble_sizes[i])\n",
    "        ax[i].set_xlabel('Number of Pre-Trained Models', fontsize=12)\n",
    "        name_title = name.title() if name not in ['heloc', 'gmsc'] else name.upper()\n",
    "        name_title = name_title + ' Credit' if name in ['german', 'default'] else name_title\n",
    "        name_title = name_title + ' Income' if name == 'adult' else name_title\n",
    "        ax[i].set_title(name_title, fontsize=14, fontweight='bold')\n",
    "        ax[i].legend()\n",
    "        ax[i].set_ylabel(f'{metric.upper()} Score', fontsize=12)\n",
    "title = f'Average Pairwise {metric_names[metric]} ({metric.upper()}) between Ensembles vs Number of Pretrained Models per Ensemble'\n",
    "plt.suptitle(title, fontstyle='italic', fontsize=17, y=1.07)\n",
    "plt.show()"
   ]
  },
  {
   "attachments": {},
   "cell_type": "markdown",
   "metadata": {},
   "source": [
    "# Smoothgrad"
   ]
  },
  {
   "attachments": {},
   "cell_type": "markdown",
   "metadata": {},
   "source": [
    "### SA"
   ]
  },
  {
   "cell_type": "code",
   "execution_count": null,
   "metadata": {},
   "outputs": [],
   "source": [
    "exp = 'smoothgrad'\n",
    "metric = 'sa'\n",
    "k = 5\n",
    "ensemble_sizes = [[1, 2, 4, 6, 8, 12, 16, 20]]*5\n",
    "plot_sims(names, directories, ensemble_sizes, k, exp, metric, methods, colors)"
   ]
  },
  {
   "cell_type": "markdown",
   "metadata": {},
   "source": [
    "### SSA"
   ]
  },
  {
   "cell_type": "code",
   "execution_count": null,
   "metadata": {},
   "outputs": [],
   "source": [
    "exp = 'smoothgrad'\n",
    "metric = 'ssa'\n",
    "k = 5\n",
    "ensemble_sizes = [[1, 2, 4, 6, 8, 12, 16, 20]]*5\n",
    "plot_sims(names, directories, ensemble_sizes, k, exp, metric, methods, colors)"
   ]
  },
  {
   "attachments": {},
   "cell_type": "markdown",
   "metadata": {},
   "source": [
    "### CDC"
   ]
  },
  {
   "cell_type": "code",
   "execution_count": null,
   "metadata": {},
   "outputs": [],
   "source": [
    "exp = 'smoothgrad'\n",
    "metric = 'cdc'\n",
    "k = [23, 70, 6, 90, 10]\n",
    "ensemble_sizes = [[1, 2, 4, 6, 8, 12, 16, 20]]*5\n",
    "plot_sims(names, directories, ensemble_sizes, k, exp, metric, methods, colors)"
   ]
  },
  {
   "cell_type": "code",
   "execution_count": null,
   "metadata": {},
   "outputs": [],
   "source": []
  }
 ],
 "metadata": {
  "kernelspec": {
   "display_name": "Python 3",
   "language": "python",
   "name": "python3"
  },
  "language_info": {
   "codemirror_mode": {
    "name": "ipython",
    "version": 3
   },
   "file_extension": ".py",
   "mimetype": "text/x-python",
   "name": "python",
   "nbconvert_exporter": "python",
   "pygments_lexer": "ipython3",
   "version": "3.9.16"
  },
  "orig_nbformat": 4
 },
 "nbformat": 4,
 "nbformat_minor": 2
}
